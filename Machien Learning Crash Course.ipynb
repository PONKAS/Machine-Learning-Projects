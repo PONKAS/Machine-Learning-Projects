{
  "nbformat": 4,
  "nbformat_minor": 0,
  "metadata": {
    "colab": {
      "provenance": [],
      "authorship_tag": "ABX9TyMILTKHvr9doGDZUwuiKgD3",
      "include_colab_link": true
    },
    "kernelspec": {
      "name": "python3",
      "display_name": "Python 3"
    },
    "language_info": {
      "name": "python"
    }
  },
  "cells": [
    {
      "cell_type": "markdown",
      "metadata": {
        "id": "view-in-github",
        "colab_type": "text"
      },
      "source": [
        "<a href=\"https://colab.research.google.com/github/PONKAS/Machine-Learning-Projects/blob/main/Machien%20Learning%20Crash%20Course.ipynb\" target=\"_parent\"><img src=\"https://colab.research.google.com/assets/colab-badge.svg\" alt=\"Open In Colab\"/></a>"
      ]
    },
    {
      "cell_type": "markdown",
      "source": [
        "This is a workbook tracking my progress on Machine Learning journey.\n",
        "I plan starting 02-Oct-2023 and dedicate at least 1 hour every work day.\n"
      ],
      "metadata": {
        "id": "vFug1i6gulYv"
      }
    },
    {
      "cell_type": "markdown",
      "source": [
        "**MACHINE LEARNING CRASH COURSE**\n",
        "\n",
        "SUPERVISED MACHINE LEARNING\n",
        "\n",
        "systems learn:\n",
        "*   combine input\n",
        "*   produce predictions\n",
        "\n",
        "Labels - typically represented by variable **y**\n",
        "Features - input variables {x1,x2,..xn}\n",
        "model - predicts\n",
        "\n",
        "**Models**\n",
        "Regression Model - predicts continous values\n",
        "Classification Model - predicts discrete values\n",
        "\n",
        "Linear Regression - best fits a straight line to a dataset\n",
        " - Loss Function- L2 Loss AKA Squared Loss - square of the difference between label and prediction\n",
        " -Mean Square Error - MSE - average of the sqaure losses.\n",
        "\n",
        "\n",
        "\n",
        "\n"
      ],
      "metadata": {
        "id": "hETlreNZvodN"
      }
    }
  ]
}